{
 "cells": [
  {
   "cell_type": "code",
   "execution_count": 400,
   "metadata": {},
   "outputs": [
    {
     "name": "stdout",
     "output_type": "stream",
     "text": [
      "[1, 2, 3, 10, 11, 12, 100, 101, 102, 1000, 1001, 1002, 10000, 10001, 10002, 100000, 100001, 100002, 1000000, 1000001, 1000002, 10000000, 10000001, 10000002, 100000000, 100000001, 100000002]\n"
     ]
    }
   ],
   "source": [
    "a=[]\n",
    "for i in range(0,9):\n",
    "    a.append(10**i+0)\n",
    "    a.append(10**i+1)\n",
    "    a.append(10**i+2)\n",
    "\n",
    "print(a)"
   ]
  },
  {
   "cell_type": "code",
   "execution_count": 393,
   "metadata": {},
   "outputs": [
    {
     "data": {
      "text/plain": [
       "[1,\n",
       " 2,\n",
       " 3,\n",
       " 10,\n",
       " 11,\n",
       " 12,\n",
       " 100,\n",
       " 101,\n",
       " 102,\n",
       " 1000,\n",
       " 1001,\n",
       " 1002,\n",
       " 10000,\n",
       " 10001,\n",
       " 10002,\n",
       " 100000,\n",
       " 100001,\n",
       " 100002,\n",
       " 1000000,\n",
       " 1000001,\n",
       " 1000002,\n",
       " 10000000,\n",
       " 10000001,\n",
       " 10000002,\n",
       " 100000000,\n",
       " 100000001,\n",
       " 100000002]"
      ]
     },
     "execution_count": 393,
     "metadata": {},
     "output_type": "execute_result"
    }
   ],
   "source": [
    "b = [10**((i+3)//3-1)+i%3 for i in range(0,27)] \n",
    "b"
   ]
  },
  {
   "cell_type": "code",
   "execution_count": 402,
   "metadata": {},
   "outputs": [
    {
     "data": {
      "text/plain": [
       "[27, 27]"
      ]
     },
     "execution_count": 402,
     "metadata": {},
     "output_type": "execute_result"
    }
   ],
   "source": [
    "[len(a), len(b)]"
   ]
  },
  {
   "cell_type": "code",
   "execution_count": 411,
   "metadata": {},
   "outputs": [
    {
     "data": {
      "text/plain": [
       "[[3075551, 3090802, 3106053],\n",
       " [3090802, 3106154, 3121506],\n",
       " [3106053, 3121506, 3136959]]"
      ]
     },
     "execution_count": 411,
     "metadata": {},
     "output_type": "execute_result"
    }
   ],
   "source": [
    "y=0 \n",
    "A = [[x+1 for x in range(3*y,3*y+3)] for y in range(101)]\n",
    "AT = [[0 for x in range(0,101)] for y in range(3)]\n",
    "Mult=[[0 for x in range(3)] for y in range(3)]\n",
    "for j in range(3):\n",
    "    for i in range(0,101):\n",
    "        AT[j][i]=A[i][j]\n",
    "ans=0\n",
    "for i in range(3):\n",
    "    for k in range(3):\n",
    "        for j in range(101):\n",
    "           ans=ans+A[j][k]*AT[i][j]\n",
    "        Mult[i][k]=ans\n",
    "        ans=0\n",
    "Mult"
   ]
  },
  {
   "cell_type": "code",
   "execution_count": 414,
   "metadata": {},
   "outputs": [
    {
     "data": {
      "text/plain": [
       "[('name 56', 0.9876254749018722),\n",
       " ('name 93', 0.9788191457576426),\n",
       " ('name 96', 0.9770807259226818),\n",
       " ('name 11', 0.9533933461949365),\n",
       " ('name 55', 0.9442607122388011),\n",
       " ('name 18', 0.9177741225129434),\n",
       " ('name 32', 0.9086488808086682),\n",
       " ('name 61', 0.9028317603316274),\n",
       " ('name 47', 0.8839364795611863),\n",
       " ('name 76', 0.879915174517916),\n",
       " ('name 78', 0.8780966427248583),\n",
       " ('name 43', 0.8568503024577332),\n",
       " ('name 37', 0.8286813263076767),\n",
       " ('name 58', 0.8261228438427398),\n",
       " ('name 52', 0.8211056578369285),\n",
       " ('name 41', 0.8192869956700687),\n",
       " ('name 14', 0.8126209616521135),\n",
       " ('name 30', 0.8052231968327465),\n",
       " ('name 69', 0.7738302962105958),\n",
       " ('name 0', 0.771320643266746),\n",
       " ('name 77', 0.763240587143681),\n",
       " ('name 7', 0.7605307121989587),\n",
       " ('name 45', 0.7546476915298572),\n",
       " ('name 3', 0.7488038825386119),\n",
       " ('name 16', 0.7217553174317995),\n",
       " ('name 19', 0.7145757833976906),\n",
       " ('name 10', 0.6853598183677972),\n",
       " ('name 23', 0.6741336150663453),\n",
       " ('name 28', 0.6503971819314672),\n",
       " ('name 73', 0.6364911430675446),\n",
       " ('name 2', 0.6336482349262754),\n",
       " ('name 39', 0.6262871483113925),\n",
       " ('name 26', 0.6177669784693172),\n",
       " ('name 15', 0.6125260668293881),\n",
       " ('name 80', 0.6055775643937568),\n",
       " ('name 29', 0.6010389534045444),\n",
       " ('name 82', 0.5978366479629736),\n",
       " ('name 60', 0.5973716482308843),\n",
       " ('name 63', 0.5902013629854229),\n",
       " ('name 89', 0.5655070198881675),\n",
       " ('name 88', 0.5575781886626442),\n",
       " ('name 40', 0.5475861559192435),\n",
       " ('name 20', 0.5425443680112613),\n",
       " ('name 62', 0.5345579488018151),\n",
       " ('name 31', 0.5216471523936341),\n",
       " ('name 99', 0.5197969858753801),\n",
       " ('name 81', 0.5134666274082884),\n",
       " ('name 27', 0.5131382425543909),\n",
       " ('name 13', 0.5121922633857766),\n",
       " ('name 4', 0.4985070123025904),\n",
       " ('name 95', 0.4950486308824543),\n",
       " ('name 90', 0.47513224741505056),\n",
       " ('name 57', 0.4563045470947841),\n",
       " ('name 24', 0.4418331744229961),\n",
       " ('name 97', 0.4407738249006665),\n",
       " ('name 25', 0.4340139933332937),\n",
       " ('name 71', 0.42949217843163834),\n",
       " ('name 79', 0.41750914383926696),\n",
       " ('name 50', 0.3925292439465873),\n",
       " ('name 54', 0.3841144486921996),\n",
       " ('name 22', 0.3733407600514692),\n",
       " ('name 65', 0.3571817586345363),\n",
       " ('name 44', 0.3516526394320879),\n",
       " ('name 74', 0.34634715008003303),\n",
       " ('name 94', 0.33970784363786366),\n",
       " ('name 68', 0.330719311982132),\n",
       " ('name 48', 0.3255116378322488),\n",
       " ('name 33', 0.3192360889885453),\n",
       " ('name 98', 0.3182728054789512),\n",
       " ('name 72', 0.3149268718426883),\n",
       " ('name 67', 0.30545991834281827),\n",
       " ('name 86', 0.30306256065103476),\n",
       " ('name 84', 0.30087130894070724),\n",
       " ('name 35', 0.30070005663620336),\n",
       " ('name 46', 0.2959617068796787),\n",
       " ('name 91', 0.2927979762895091),\n",
       " ('name 17', 0.29187606817063316),\n",
       " ('name 83', 0.2622156611319503),\n",
       " ('name 59', 0.25137413420705934),\n",
       " ('name 87', 0.24207587540352737),\n",
       " ('name 5', 0.22479664553084766),\n",
       " ('name 42', 0.1989475396788123),\n",
       " ('name 6', 0.19806286475962398),\n",
       " ('name 8', 0.16911083656253545),\n",
       " ('name 49', 0.16501589771914849),\n",
       " ('name 53', 0.15115201964256386),\n",
       " ('name 21', 0.14217004760152696),\n",
       " ('name 36', 0.11398436186354977),\n",
       " ('name 51', 0.0934603745586503),\n",
       " ('name 34', 0.09045934927090737),\n",
       " ('name 9', 0.08833981417401027),\n",
       " ('name 66', 0.07961309015596418),\n",
       " ('name 92', 0.06425106069482445),\n",
       " ('name 38', 0.04689631938924976),\n",
       " ('name 75', 0.04309735620499444),\n",
       " ('name 70', 0.039959208689977266),\n",
       " ('name 64', 0.03928176722538734),\n",
       " ('name 85', 0.025399782050106068),\n",
       " ('name 1', 0.0207519493594015),\n",
       " ('name 12', 0.003948266327914451)]"
      ]
     },
     "execution_count": 414,
     "metadata": {},
     "output_type": "execute_result"
    }
   ],
   "source": [
    "import numpy as np\n",
    "np.random.seed(10)\n",
    "a = []\n",
    "for i in range(100):\n",
    "    a.append(tuple(['name '+str(i), np.random.random()]))\n",
    "b = dict(a)\n",
    "def getKey(item):\n",
    "    return item[1]\n",
    "p=[tuple([0 for x in range(2)]) for y in range(100)]\n",
    "import numpy as np\n",
    "np.random.seed(10)\n",
    "a = []\n",
    "for i in range(100):\n",
    "    a.append(tuple(['name '+str(i), np.random.random()]))\n",
    "b = dict(a)\n",
    "p=b.items()\n",
    "p=sorted(p, key=getKey, reverse=True)\n",
    "p"
   ]
  },
  {
   "cell_type": "code",
   "execution_count": 415,
   "metadata": {},
   "outputs": [
    {
     "data": {
      "text/plain": [
       "['DP',\n",
       " 'JU',\n",
       " 'LW',\n",
       " 'HC',\n",
       " 'AW',\n",
       " 'IV',\n",
       " 'TQ',\n",
       " 'GG',\n",
       " 'QJ',\n",
       " 'FH',\n",
       " 'FC',\n",
       " 'GN',\n",
       " 'LZ',\n",
       " 'DK',\n",
       " 'LN',\n",
       " 'TZ',\n",
       " 'OA',\n",
       " 'KL',\n",
       " 'GL',\n",
       " 'SD',\n",
       " 'NR',\n",
       " 'YL',\n",
       " 'QS',\n",
       " 'PH',\n",
       " 'LW',\n",
       " 'NG',\n",
       " 'OY',\n",
       " 'SB',\n",
       " 'OK',\n",
       " 'DS',\n",
       " 'GJ',\n",
       " 'UW',\n",
       " 'OE',\n",
       " 'LI',\n",
       " 'GP',\n",
       " 'SO',\n",
       " 'TK',\n",
       " 'KB',\n",
       " 'VS',\n",
       " 'RI',\n",
       " 'SK',\n",
       " 'UE',\n",
       " 'IW',\n",
       " 'QT',\n",
       " 'UQ',\n",
       " 'VK',\n",
       " 'GJ',\n",
       " 'XU',\n",
       " 'AM',\n",
       " 'OW',\n",
       " 'RJ',\n",
       " 'GK',\n",
       " 'HJ',\n",
       " 'XW',\n",
       " 'JO',\n",
       " 'YY',\n",
       " 'PS',\n",
       " 'MK',\n",
       " 'SR',\n",
       " 'MF',\n",
       " 'CZ',\n",
       " 'XF',\n",
       " 'VZ',\n",
       " 'WJ',\n",
       " 'JV',\n",
       " 'CP',\n",
       " 'ZW',\n",
       " 'BY',\n",
       " 'RQ',\n",
       " 'IL',\n",
       " 'FA',\n",
       " 'WF',\n",
       " 'EL',\n",
       " 'SJ',\n",
       " 'ZO',\n",
       " 'UF',\n",
       " 'DL',\n",
       " 'JX',\n",
       " 'BC',\n",
       " 'TW',\n",
       " 'NV',\n",
       " 'UU',\n",
       " 'RN',\n",
       " 'YL',\n",
       " 'XB',\n",
       " 'JS',\n",
       " 'TE',\n",
       " 'UM',\n",
       " 'EJ',\n",
       " 'KA',\n",
       " 'PV',\n",
       " 'PK',\n",
       " 'ED',\n",
       " 'MK',\n",
       " 'CH',\n",
       " 'AL',\n",
       " 'WP',\n",
       " 'SH',\n",
       " 'LV',\n",
       " 'HX']"
      ]
     },
     "execution_count": 415,
     "metadata": {},
     "output_type": "execute_result"
    }
   ],
   "source": [
    "np.random.seed(20)\n",
    "asc = [tuple([np.random.randint(65,91),\n",
    "np.random.randint(65,91)]) for i in range(100)]\n",
    "a=[0 for i in range(100)]\n",
    "for i in range(100):\n",
    "    a[i]=chr(asc[i][0])+chr(asc[i][1])\n",
    "a"
   ]
  },
  {
   "cell_type": "code",
   "execution_count": 418,
   "metadata": {},
   "outputs": [
    {
     "data": {
      "text/plain": [
       "[(5, 0),\n",
       " (6, 1),\n",
       " (7, 6),\n",
       " (8, 21),\n",
       " (9, 56),\n",
       " (10, 126),\n",
       " (11, 252),\n",
       " (12, 456),\n",
       " (13, 756),\n",
       " (14, 1161),\n",
       " (15, 1666),\n",
       " (16, 2247),\n",
       " (17, 2856),\n",
       " (18, 3431),\n",
       " (19, 3906),\n",
       " (20, 4221),\n",
       " (21, 4332),\n",
       " (22, 4221),\n",
       " (23, 3906),\n",
       " (24, 3431),\n",
       " (25, 2856),\n",
       " (26, 2247),\n",
       " (27, 1666),\n",
       " (28, 1161),\n",
       " (29, 756),\n",
       " (30, 456),\n",
       " (31, 252),\n",
       " (32, 126),\n",
       " (33, 56),\n",
       " (34, 21),\n",
       " (35, 6),\n",
       " (36, 1)]"
      ]
     },
     "execution_count": 418,
     "metadata": {},
     "output_type": "execute_result"
    }
   ],
   "source": [
    "c=[0 for i in range(0,37)]\n",
    "counter=0\n",
    "for i in range (1,7):\n",
    "    for j in range (1,7):\n",
    "        for k in range (1,7):\n",
    "            for ii in range(1,7):\n",
    "                for jj in range(1,7):\n",
    "                    for kk in range(1,7):\n",
    "                        counter=counter+1\n",
    "                        for s in range(0,37):\n",
    "                            if s==i+j+k+ii+jj+kk:\n",
    "                                c[s]=c[s]+1\n",
    "ANS=[tuple([y,c[y]]) for y in range(5,37)]\n",
    "#TO Check if the summation of the second elements goes to 6^6\n",
    "S=0\n",
    "for i in range(0,31):\n",
    "   S=S+ANS[i][1]\n",
    "\n",
    "ANS"
   ]
  },
  {
   "cell_type": "code",
   "execution_count": 419,
   "metadata": {},
   "outputs": [],
   "source": [
    "def HrDeg(Sec):\n",
    "    if Sec<43200:\n",
    "        return 360*Sec/3600/12\n",
    "    else:\n",
    "        return 360*(Sec/3600-12)/12\n",
    "\n",
    "def MinDeg(Sec):\n",
    "    return 360*60*(Sec/3600-int(Sec/3600))/60\n",
    "    \n",
    "def obj(Sec):\n",
    "    return (abs(HrDeg(Sec)-MinDeg(Sec)))\n",
    "pb=[]\n",
    "import datetime\n",
    "from scipy.optimize import fsolve\n",
    "counter=0\n",
    "ppb=100\n",
    "for j in range(0,86400,3000):\n",
    "    pbb= fsolve(obj, j)\n",
    "    if abs(pbb-ppb)>1:\n",
    "        counter=counter+1 \n",
    "        x0=fsolve(obj, j)\n",
    "        pb.append(str(datetime.timedelta(seconds=x0[0])))\n",
    "        ppb=pbb"
   ]
  },
  {
   "cell_type": "code",
   "execution_count": 421,
   "metadata": {},
   "outputs": [
    {
     "data": {
      "text/plain": [
       "['0:00:00',\n",
       " '1:05:27.272727',\n",
       " '2:10:54.545455',\n",
       " '3:16:21.818182',\n",
       " '4:21:49.090909',\n",
       " '5:27:16.363636',\n",
       " '6:32:43.636364',\n",
       " '7:38:10.909091',\n",
       " '8:43:38.181818',\n",
       " '9:49:05.454545',\n",
       " '10:54:32.727273',\n",
       " '12:00:00',\n",
       " '13:05:27.272727',\n",
       " '14:10:54.545455',\n",
       " '15:16:21.818182',\n",
       " '16:21:49.090909',\n",
       " '17:27:16.363636',\n",
       " '18:32:43.636364',\n",
       " '19:38:10.909091',\n",
       " '20:43:38.181818',\n",
       " '21:49:05.454545',\n",
       " '22:54:32.727273',\n",
       " '23:59:59.999991']"
      ]
     },
     "execution_count": 421,
     "metadata": {},
     "output_type": "execute_result"
    }
   ],
   "source": [
    "pb"
   ]
  },
  {
   "cell_type": "code",
   "execution_count": 422,
   "metadata": {},
   "outputs": [
    {
     "data": {
      "text/plain": [
       "23"
      ]
     },
     "execution_count": 422,
     "metadata": {},
     "output_type": "execute_result"
    }
   ],
   "source": [
    "len(pb)"
   ]
  },
  {
   "cell_type": "code",
   "execution_count": null,
   "metadata": {},
   "outputs": [],
   "source": []
  }
 ],
 "metadata": {
  "kernelspec": {
   "display_name": "Python 3",
   "language": "python",
   "name": "python3"
  },
  "language_info": {
   "codemirror_mode": {
    "name": "ipython",
    "version": 3
   },
   "file_extension": ".py",
   "mimetype": "text/x-python",
   "name": "python",
   "nbconvert_exporter": "python",
   "pygments_lexer": "ipython3",
   "version": "3.6.5"
  }
 },
 "nbformat": 4,
 "nbformat_minor": 2
}
