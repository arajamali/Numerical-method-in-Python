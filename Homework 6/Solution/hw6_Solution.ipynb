{
 "cells": [
  {
   "cell_type": "markdown",
   "metadata": {},
   "source": [
    "# 6.1"
   ]
  },
  {
   "cell_type": "code",
   "execution_count": 911,
   "metadata": {},
   "outputs": [],
   "source": [
    "import numpy as np\n",
    "import scipy.optimize\n",
    "import sympy\n",
    "import matplotlib.pyplot as plt\n",
    "import matplotlib as mpl\n",
    "import sympy as sm"
   ]
  },
  {
   "cell_type": "code",
   "execution_count": 912,
   "metadata": {},
   "outputs": [],
   "source": [
    "def f(x):\n",
    "    x1 = x[0]\n",
    "    x2 = x[1]\n",
    "    x3 = x[2]\n",
    "    x4 = x[3]\n",
    "    a=[[x1,x2],[x3,x4]]\n",
    "    a=np.asarray(a)\n",
    "    ans=(a.dot(a)).dot(a)\n",
    "    f=[ans[0,0]-20,ans[0,1]-30,ans[1,0]-40,ans[1,1]-50]\n",
    "    return f#np.asarray(f)"
   ]
  },
  {
   "cell_type": "code",
   "execution_count": 913,
   "metadata": {},
   "outputs": [
    {
     "data": {
      "text/plain": [
       "array([0.27910912, 2.21544966, 2.95393288, 2.49455878])"
      ]
     },
     "execution_count": 913,
     "metadata": {},
     "output_type": "execute_result"
    }
   ],
   "source": [
    "scipy.optimize.fsolve(f,[1,1,1,1], xtol = 1e-8)"
   ]
  },
  {
   "cell_type": "raw",
   "metadata": {},
   "source": [
    "The restuls are verified by EXCEL and it is correct"
   ]
  },
  {
   "cell_type": "markdown",
   "metadata": {},
   "source": [
    "# 6.2 and 6.3"
   ]
  },
  {
   "cell_type": "code",
   "execution_count": 914,
   "metadata": {},
   "outputs": [],
   "source": [
    "def jacobian(f,x,counter):\n",
    "    '''f is list of function\\nx is list of points to calculate jacobian'''\n",
    "    SumNrm=0\n",
    "    eps = 1e-8\n",
    "    N = len(f)\n",
    "    J = np.zeros([N,N])\n",
    "    for i in range(N):\n",
    "        for j in range(N):\n",
    "            x_plus = x.copy()\n",
    "            x_minus = x.copy()\n",
    "            x_plus[j] = x_plus[j] + eps\n",
    "            x_minus[j] = x_minus[j] - eps\n",
    "            J[i,j] = (f[i](*x_plus) - f[i](*x_minus))/eps * 0.5\n",
    "            SumNrm=J[i,j]*J[i,j]+SumNrm\n",
    "            counter=10*2+3+counter\n",
    "    return J,counter,SumNrm**0.5"
   ]
  },
  {
   "cell_type": "code",
   "execution_count": 915,
   "metadata": {},
   "outputs": [
    {
     "data": {
      "text/plain": [
       "array([<function <lambda> at 0x000002FB9C23A598>,\n",
       "       <function <lambda> at 0x000002FB9C23A158>,\n",
       "       <function <lambda> at 0x000002FB9C23AB70>,\n",
       "       <function <lambda> at 0x000002FB9C23AA60>], dtype=object)"
      ]
     },
     "execution_count": 915,
     "metadata": {},
     "output_type": "execute_result"
    }
   ],
   "source": [
    "g=[]\n",
    "g.append(lambda x1,x2,x3,x4: x1*(x1**2 + x2*x3) + x3*(x1*x2 + x2*x4) - 20)\n",
    "g.append(lambda x1,x2,x3,x4: x2*(x1**2 + x2*x3) + x4*(x1*x2 + x2*x4) - 30)\n",
    "g.append(lambda x1,x2,x3,x4: x1*(x1*x3 + x3*x4) + x3*(x2*x3 + x4**2) - 40)\n",
    "g.append(lambda x1,x2,x3,x4: x2*(x1*x3 + x3*x4) + x4*(x2*x3 + x4**2) - 50)\n",
    "g=np.asarray(g)\n",
    "g"
   ]
  },
  {
   "cell_type": "code",
   "execution_count": 916,
   "metadata": {},
   "outputs": [],
   "source": [
    "def user_gaussian_solve_pp(a,b,counter):\n",
    "    A = np.hstack((a,b))\n",
    "    N = A.shape[0]\n",
    "    for k in range(N-1):\n",
    "        maxidx = np.abs(A[k:,k]).argmax() + k #get index of the max arg\n",
    "        # +k is needed, because, argmax restart at 0 for the new slice\n",
    "        counter=counter+1\n",
    "        if k != maxidx:\n",
    "            A[[k,maxidx]] = A[[maxidx, k]]\n",
    "            counter=counter+1\n",
    "        for i in range(k+1, N):\n",
    "            r = -A[i,k] / A[k,k]\n",
    "            counter=counter+1\n",
    "            for j in range(k+1, N+1):\n",
    "                A[i,j] = A[i,j] + r * A[k,j]\n",
    "                counter=counter+2\n",
    "\n",
    "    A[N-1,N] = A[N-1,-1] / A[N-1, -2]\n",
    "    counter=counter+1\n",
    "    for i in range(N-2, -1, -1): #2, 1, 0\n",
    "        sum = 0\n",
    "        for j in range(i+1, N): #i+1 to N-1\n",
    "            sum = sum + A[i,j] * A[j,N]\n",
    "            counter=counter+2\n",
    "        A[i,N] = (A[i,N] - sum)/A[i,i]\n",
    "        counter=counter+2\n",
    "    return A[:,N][:,np.newaxis],counter"
   ]
  },
  {
   "cell_type": "code",
   "execution_count": 917,
   "metadata": {},
   "outputs": [],
   "source": [
    "def newton_jacobian(f,x0,counter, print_option = False, print_option2 = True):\n",
    "    \"\"\"f is list of function, x is list of initial guess value\"\"\"\n",
    "    Nmr=[]\n",
    "    norm = 1\n",
    "    maxitx = 100\n",
    "    eps = 1e-8\n",
    "    x = x0.copy()\n",
    "    for k in range(maxitx):\n",
    "        if print_option:\n",
    "            print(x)\n",
    "        jac_np,counter,aO = jacobian(f,x,counter)\n",
    "        Nmr.append(aO)\n",
    "        minus_f = np.array([- f[i](*x) for i in range(len(f))])[:,np.newaxis]\n",
    "        delta_x_np,counter = user_gaussian_solve_pp(jac_np,minus_f,counter)\n",
    "        if np.linalg.norm(delta_x_np) < eps:\n",
    "            break\n",
    "        x = [x[i] + delta_x_np.reshape((1,-1))[0].tolist()[i] for i in range(len(f))]\n",
    "        counter=counter+len(f)\n",
    "        \n",
    "    if print_option2:\n",
    "        print('number of iteration = ',k+1)\n",
    "    return x,counter,Nmr"
   ]
  },
  {
   "cell_type": "code",
   "execution_count": 918,
   "metadata": {
    "scrolled": true
   },
   "outputs": [
    {
     "name": "stdout",
     "output_type": "stream",
     "text": [
      "[1, 1, 1, 1]\n",
      "[-1.4166664647807887, 3.583333137394692, 6.0833333672314716, 6.083333351354168]\n",
      "[-0.7607557919444844, 2.6591254020458313, 4.304915837695552, 4.176614704621529]\n",
      "[-0.19180752597778006, 2.274018020151097, 3.355601593506067, 3.052942754421318]\n",
      "[0.19325993733144192, 2.2156298356774244, 3.0091873695167553, 2.573932550568837]\n",
      "[0.277084340273137, 2.215613749269938, 2.9552931309884953, 2.4961224823524906]\n",
      "[0.27910779545462766, 2.215450039903315, 2.9539338551194154, 2.4945592409350184]\n",
      "[0.2791091211302162, 2.2154496583622354, 2.9539328778163454, 2.4945587794925483]\n",
      "number of iteration =  8\n",
      "Number of floating operations= 3517\n"
     ]
    },
    {
     "data": {
      "text/plain": [
       "[13.266499134354026,\n",
       " 228.86097338298174,\n",
       " 114.37983415998868,\n",
       " 70.09439042742568,\n",
       " 57.96767262169366,\n",
       " 56.50845497925858,\n",
       " 56.477061405642985,\n",
       " 56.477047301030076]"
      ]
     },
     "execution_count": 918,
     "metadata": {},
     "output_type": "execute_result"
    }
   ],
   "source": [
    "\n",
    "ans,counter,nrm = newton_jacobian(g,[1,1,1,1],0,print_option = True, print_option2 = True)\n",
    "print(\"Number of floating operations= \"+str(counter))\n",
    "nrm"
   ]
  },
  {
   "cell_type": "markdown",
   "metadata": {},
   "source": [
    "# Double checking"
   ]
  },
  {
   "cell_type": "code",
   "execution_count": 919,
   "metadata": {},
   "outputs": [
    {
     "data": {
      "text/plain": [
       "[-4.444444812179427e-12,\n",
       " 4.675371201301459e-12,\n",
       " 6.66489086142974e-12,\n",
       " 1.5489831639570184e-12]"
      ]
     },
     "execution_count": 919,
     "metadata": {},
     "output_type": "execute_result"
    }
   ],
   "source": [
    "[g[i](*ans) for i in range(len(g))]"
   ]
  },
  {
   "cell_type": "code",
   "execution_count": 920,
   "metadata": {},
   "outputs": [],
   "source": [
    "import matplotlib.pyplot as plt\n",
    "import matplotlib as mpl"
   ]
  },
  {
   "cell_type": "markdown",
   "metadata": {},
   "source": [
    "# 6.4"
   ]
  },
  {
   "cell_type": "code",
   "execution_count": 921,
   "metadata": {},
   "outputs": [
    {
     "data": {
      "image/png": "[encoded data removed]",
      "text/plain": [
       "<Figure size 432x288 with 1 Axes>"
      ]
     },
     "metadata": {},
     "output_type": "display_data"
    }
   ],
   "source": [
    "x=[1,2,3,4,5,6,7,8]\n",
    "plt.plot(x, nrm,'ob')\n",
    "plt.xlabel(\"Iteration\")\n",
    "plt.ylabel(\"Nrom of Jacobian\")\n",
    "plt.grid(linestyle='--')\n",
    "plt.show()"
   ]
  },
  {
   "cell_type": "markdown",
   "metadata": {},
   "source": [
    "# 6.5 "
   ]
  },
  {
   "cell_type": "code",
   "execution_count": 922,
   "metadata": {},
   "outputs": [],
   "source": [
    "def jacobian(f,x,counter):\n",
    "    '''f is list of function\\nx is list of points to calculate jacobian'''\n",
    "    SumNrm=0\n",
    "    eps = 1e-8\n",
    "    N = len(f)\n",
    "    J = np.zeros([N,N])\n",
    "    for i in range(N):\n",
    "        for j in range(N):\n",
    "            x_plus = x.copy()\n",
    "            x_minus = x.copy()\n",
    "            x_plus[j] = x_plus[j] + eps\n",
    "            x_minus[j] = x_minus[j] - eps\n",
    "            J[i,j] = (f[i](*x_plus) - f[i](*x_minus))/eps * 0.5\n",
    "            SumNrm=J[i,j]*J[i,j]+SumNrm\n",
    "            counter=10*2+3+counter\n",
    "    return J,counter,SumNrm**0.5"
   ]
  },
  {
   "cell_type": "code",
   "execution_count": 923,
   "metadata": {},
   "outputs": [],
   "source": [
    "def user_gaussian_solve_pp(a,b,counter):\n",
    "    A = np.hstack((a,b))\n",
    "    N = A.shape[0]\n",
    "    for k in range(N-1):\n",
    "        maxidx = np.abs(A[k:,k]).argmax() + k #get index of the max arg\n",
    "        # +k is needed, because, argmax restart at 0 for the new slice\n",
    "        counter=counter+1\n",
    "        if k != maxidx:\n",
    "            A[[k,maxidx]] = A[[maxidx, k]]\n",
    "            counter=counter+1\n",
    "        for i in range(k+1, N):\n",
    "            r = -A[i,k] / A[k,k]\n",
    "            counter=counter+1\n",
    "            for j in range(k+1, N+1):\n",
    "                A[i,j] = A[i,j] + r * A[k,j]\n",
    "                counter=counter+2\n",
    "\n",
    "    A[N-1,N] = A[N-1,-1] / A[N-1, -2]\n",
    "    counter=counter+1\n",
    "    for i in range(N-2, -1, -1): #2, 1, 0\n",
    "        sum = 0\n",
    "        for j in range(i+1, N): #i+1 to N-1\n",
    "            sum = sum + A[i,j] * A[j,N]\n",
    "            counter=counter+2\n",
    "        A[i,N] = (A[i,N] - sum)/A[i,i]\n",
    "        counter=counter+2\n",
    "    return A[:,N][:,np.newaxis],counter"
   ]
  },
  {
   "cell_type": "code",
   "execution_count": 924,
   "metadata": {},
   "outputs": [],
   "source": [
    "def newton_jacobian(f,x0,counter, print_option = False, print_option2 = True):\n",
    "    \"\"\"f is list of function, x is list of initial guess value\"\"\"\n",
    "    xVal=[]\n",
    "    norm = 1\n",
    "    maxitx = 100\n",
    "    eps = 1e-8\n",
    "    x = x0.copy()\n",
    "    for k in range(maxitx):\n",
    "        if print_option:\n",
    "            print(x)\n",
    "        xVal.append(x)\n",
    "        jac_np,counter,aO = jacobian(f,x,counter)\n",
    "        minus_f = np.array([- f[i](*x) for i in range(len(f))])[:,np.newaxis]\n",
    "        delta_x_np,counter = user_gaussian_solve_pp(jac_np,minus_f,counter)\n",
    "        if np.linalg.norm(delta_x_np) < eps:\n",
    "            break\n",
    "        x = [x[i] + delta_x_np.reshape((1,-1))[0].tolist()[i] for i in range(len(f))]\n",
    "        counter=counter+len(f)\n",
    "        \n",
    "    if print_option2:\n",
    "        print('number of iteration = ',k+1)\n",
    "    return x,counter,xVal"
   ]
  },
  {
   "cell_type": "code",
   "execution_count": 925,
   "metadata": {},
   "outputs": [
    {
     "name": "stdout",
     "output_type": "stream",
     "text": [
      "[1, 1, 1, 1]\n",
      "[-1.4166664647807887, 3.583333137394692, 6.0833333672314716, 6.083333351354168]\n",
      "[-0.7607557919444844, 2.6591254020458313, 4.304915837695552, 4.176614704621529]\n",
      "[-0.19180752597778006, 2.274018020151097, 3.355601593506067, 3.052942754421318]\n",
      "[0.19325993733144192, 2.2156298356774244, 3.0091873695167553, 2.573932550568837]\n",
      "[0.277084340273137, 2.215613749269938, 2.9552931309884953, 2.4961224823524906]\n",
      "[0.27910779545462766, 2.215450039903315, 2.9539338551194154, 2.4945592409350184]\n",
      "[0.2791091211302162, 2.2154496583622354, 2.9539328778163454, 2.4945587794925483]\n",
      "number of iteration =  8\n",
      "Number of floating operations= 3517\n"
     ]
    }
   ],
   "source": [
    "\n",
    "ans,counter,xVal = newton_jacobian(g,[1,1,1,1],0,print_option = True, print_option2 = True)\n",
    "print(\"Number of floating operations= \"+str(counter))"
   ]
  },
  {
   "cell_type": "code",
   "execution_count": 926,
   "metadata": {},
   "outputs": [],
   "source": [
    "NrmEr=np.asarray([[g[i](*xVal[j]) for i in range(4)] for j in range(8)])\n",
    "ErrorMat=[np.linalg.norm(NrmEr[i]) for i in range(8)]"
   ]
  },
  {
   "cell_type": "code",
   "execution_count": 927,
   "metadata": {},
   "outputs": [
    {
     "data": {
      "text/plain": [
       "[65.90902821313632,\n",
       " 521.1870411006698,\n",
       " 138.19723883932414,\n",
       " 28.909899192777626,\n",
       " 3.1857998836817876,\n",
       " 0.0668743523165194,\n",
       " 3.121827451073797e-05,\n",
       " 9.403845202652989e-12]"
      ]
     },
     "execution_count": 927,
     "metadata": {},
     "output_type": "execute_result"
    }
   ],
   "source": [
    "ErrorMat"
   ]
  },
  {
   "cell_type": "code",
   "execution_count": 928,
   "metadata": {
    "scrolled": true
   },
   "outputs": [
    {
     "data": {
      "image/png": "[encoded data removed]",
      "text/plain": [
       "<Figure size 432x288 with 1 Axes>"
      ]
     },
     "metadata": {},
     "output_type": "display_data"
    }
   ],
   "source": [
    "import pylab\n",
    "import matplotlib.pyplot as plt\n",
    "x=[1,2,3,4,5,6,7,8]\n",
    "fig = plt.figure()\n",
    "ax = fig.add_subplot(1, 1, 1)\n",
    "ax.set_yscale('log')\n",
    "plt.plot(x, ErrorMat,'ob')\n",
    "plt.xlabel(\"Iteration\")\n",
    "plt.ylabel(\"Nrom of Jacobian\")\n",
    "plt.grid(linestyle='--')\n",
    "plt.show()"
   ]
  },
  {
   "cell_type": "markdown",
   "metadata": {},
   "source": [
    "# 6.6"
   ]
  },
  {
   "cell_type": "code",
   "execution_count": 929,
   "metadata": {},
   "outputs": [],
   "source": [
    "h=[]\n",
    "h.append(lambda x1,x2,x3,x4: x1*x1**2 + x2*x3**2 + x3*x1*x2 + x2*x4+12)\n",
    "h.append(lambda x1,x2,x3,x4: x2*2 + x3/x1 + x4*(x1*x2 + x2*x4)-10)\n",
    "h.append(lambda x1,x2,x3,x4: x1*x1+x3 + x3*x4 + x3*x2 + x4**3)\n",
    "h.append(lambda x1,x2,x3,x4: x2*x3+x1 + x3*x4 + x4*x2*x3 + x4**2-5)\n",
    "h=np.asarray(h)"
   ]
  },
  {
   "cell_type": "code",
   "execution_count": 930,
   "metadata": {},
   "outputs": [
    {
     "name": "stdout",
     "output_type": "stream",
     "text": [
      "number of iteration =  12\n"
     ]
    },
    {
     "data": {
      "text/plain": [
       "[5.274337411265151e-09,\n",
       " -5.507025946371868e-10,\n",
       " 1.0590373022978383e-09,\n",
       " 7.469580509678053e-13]"
      ]
     },
     "execution_count": 930,
     "metadata": {},
     "output_type": "execute_result"
    }
   ],
   "source": [
    "ans,counter,xVal = newton_jacobian(h,[1,1,1,1],0,print_option = False, print_option2 = True)\n",
    "[h[i](*ans) for i in range(len(h))]"
   ]
  },
  {
   "cell_type": "code",
   "execution_count": 931,
   "metadata": {},
   "outputs": [
    {
     "data": {
      "text/plain": [
       "[17.4928556845359,\n",
       " 39.88379372217704,\n",
       " 369.2029701155504,\n",
       " 19.250246082733963,\n",
       " 53.23962978673537,\n",
       " 24.398912827254478,\n",
       " 36.18486821271849,\n",
       " 19.66045257425969,\n",
       " 0.7411782815513426,\n",
       " 0.3377725801960061,\n",
       " 0.0005469826229413101,\n",
       " 5.4077230921355354e-09]"
      ]
     },
     "execution_count": 931,
     "metadata": {},
     "output_type": "execute_result"
    }
   ],
   "source": [
    "NrmEr=np.asarray([[h[i](*xVal[j]) for i in range(4)] for j in range(12)])\n",
    "ErrorMat=[np.linalg.norm(NrmEr[i]) for i in range(12)]\n",
    "ErrorMat"
   ]
  },
  {
   "cell_type": "code",
   "execution_count": 932,
   "metadata": {},
   "outputs": [
    {
     "data": {
      "image/png": "[encoded data removed]",
      "text/plain": [
       "<Figure size 432x288 with 1 Axes>"
      ]
     },
     "metadata": {},
     "output_type": "display_data"
    }
   ],
   "source": [
    "import pylab\n",
    "import matplotlib.pyplot as plt\n",
    "x=[1,2,3,4,5,6,7,8,9,10,11,12]\n",
    "fig = plt.figure()\n",
    "ax = fig.add_subplot(1, 1, 1)\n",
    "ax.set_yscale('log')\n",
    "plt.plot(x, ErrorMat,'ob')\n",
    "plt.xlabel(\"Iteration\")\n",
    "plt.ylabel(\"Nrom of Jacobian\")\n",
    "plt.grid(linestyle='--')\n",
    "plt.show()"
   ]
  },
  {
   "cell_type": "code",
   "execution_count": 933,
   "metadata": {},
   "outputs": [],
   "source": [
    "def funcUse(x):\n",
    "    x1=x[0]\n",
    "    x2=x[1]\n",
    "    x3=x[2]\n",
    "    x4=x[3]\n",
    "    h=[]\n",
    "    h.append(x1*x1**2 + x2*x3**2 + x3*x1*x2 + x2*x4+12)\n",
    "    h.append(x2*2 + x3/x1 + x4*(x1*x2 + x2*x4)-10)\n",
    "    h.append(x1*x1+x3 + x3*x4 + x3*x2 + x4**3)\n",
    "    h.append(x2*x3+x1 + x3*x4 + x4*x2*x3 + x4**2-5)\n",
    "    h=np.asarray(h)\n",
    "    return h\n",
    "\n"
   ]
  },
  {
   "cell_type": "code",
   "execution_count": 934,
   "metadata": {},
   "outputs": [
    {
     "data": {
      "text/plain": [
       "array([16., -5.,  5.,  0.])"
      ]
     },
     "execution_count": 934,
     "metadata": {},
     "output_type": "execute_result"
    }
   ],
   "source": [
    "funcUse([1,1,1,1])"
   ]
  },
  {
   "cell_type": "code",
   "execution_count": 935,
   "metadata": {},
   "outputs": [
    {
     "name": "stderr",
     "output_type": "stream",
     "text": [
      "C:\\Users\\aryas\\Anaconda3\\lib\\site-packages\\scipy\\optimize\\minpack.py:163: RuntimeWarning: The iteration is not making good progress, as measured by the \n",
      "  improvement from the last five Jacobian evaluations.\n",
      "  warnings.warn(msg, RuntimeWarning)\n"
     ]
    },
    {
     "data": {
      "text/plain": [
       "array([ 0.01040878, -2.58870631,  0.22823464,  1.47767855])"
      ]
     },
     "execution_count": 935,
     "metadata": {},
     "output_type": "execute_result"
    }
   ],
   "source": [
    "scipy.optimize.fsolve(funcUse,[1,1,1,1], xtol = 1e-8)"
   ]
  },
  {
   "cell_type": "code",
   "execution_count": 936,
   "metadata": {},
   "outputs": [
    {
     "data": {
      "text/plain": [
       "array([ 4.01143799, -7.59871643,  1.89630455, -1.12873095])"
      ]
     },
     "execution_count": 936,
     "metadata": {},
     "output_type": "execute_result"
    }
   ],
   "source": [
    "scipy.optimize.fsolve(funcUse,[4,6,2,-1], xtol = 1e-8)"
   ]
  },
  {
   "cell_type": "code",
   "execution_count": 937,
   "metadata": {},
   "outputs": [
    {
     "data": {
      "text/plain": [
       "[4.011437989787023,\n",
       " -7.5987164305669435,\n",
       " 1.896304552722652,\n",
       " -1.1287309479851872]"
      ]
     },
     "execution_count": 937,
     "metadata": {},
     "output_type": "execute_result"
    }
   ],
   "source": [
    "ans"
   ]
  },
  {
   "cell_type": "markdown",
   "metadata": {},
   "source": [
    "The Scipy function did not give correct answer with all initial guesses. I had to choose intiall guess values close to the acutal answers!!!!!!"
   ]
  },
  {
   "cell_type": "code",
   "execution_count": null,
   "metadata": {},
   "outputs": [],
   "source": []
  },
  {
   "cell_type": "code",
   "execution_count": 938,
   "metadata": {},
   "outputs": [],
   "source": [
    "x1, x2, x3, x4 = sympy.symbols('x1, x2, x3, x4')\n",
    "h=[]\n",
    "h.append( x1*x1**2 + x2*x3**2 + x3*x1*x2 + x2*x4+12)\n",
    "h.append(x2*2 + x3/x1 + x4*(x1*x2 + x2*x4)-10)\n",
    "h.append(x1*x1+x3 + x3*x4 + x3*x2 + x4**3)\n",
    "h.append(x2*x3+x1 + x3*x4 + x4*x2*x3 + x4**2-5)\n",
    "h=np.asarray(h)"
   ]
  },
  {
   "cell_type": "code",
   "execution_count": 939,
   "metadata": {},
   "outputs": [
    {
     "data": {
      "text/plain": [
       "Matrix([\n",
       "[ 3*x1**2 + x2*x3, x1*x3 + x3**2 + x4, x1*x2 + 2*x2*x3,                x2],\n",
       "[x2*x4 - x3/x1**2,   x4*(x1 + x4) + 2,            1/x1,   x1*x2 + 2*x2*x4],\n",
       "[            2*x1,                 x3,     x2 + x4 + 1,      x3 + 3*x4**2],\n",
       "[               1,         x3*x4 + x3, x2*x4 + x2 + x4, x2*x3 + x3 + 2*x4]])"
      ]
     },
     "execution_count": 939,
     "metadata": {},
     "output_type": "execute_result"
    }
   ],
   "source": [
    "A_mat_sym = sympy.Matrix([h[0],h[1],h[2],h[3]])\n",
    "y_mat_sym = sympy.Matrix([x1,x2,x3,x4])\n",
    "jac_sym = A_mat_sym.jacobian(y_mat_sym)\n",
    "jac_sym"
   ]
  },
  {
   "cell_type": "code",
   "execution_count": 940,
   "metadata": {},
   "outputs": [
    {
     "data": {
      "text/plain": [
       "Matrix([\n",
       "[4, 3, 3, 1],\n",
       "[0, 4, 1, 3],\n",
       "[2, 1, 3, 4],\n",
       "[1, 2, 3, 4]])"
      ]
     },
     "execution_count": 940,
     "metadata": {},
     "output_type": "execute_result"
    }
   ],
   "source": [
    "jac_sym.subs({x1:1,x2:1,x3:1,x4:1})"
   ]
  },
  {
   "cell_type": "raw",
   "metadata": {},
   "source": [
    "Now we can check by our function to see if jacobian is calculated correctly or no"
   ]
  },
  {
   "cell_type": "code",
   "execution_count": 941,
   "metadata": {},
   "outputs": [
    {
     "data": {
      "text/plain": [
       "array([[3.99999998, 2.99999989, 2.99999989, 1.00000008],\n",
       "       [0.        , 3.99999998, 0.99999999, 2.99999998],\n",
       "       [1.99999999, 0.99999999, 2.99999998, 3.99999998],\n",
       "       [0.99999999, 1.99999999, 2.99999998, 3.99999998]])"
      ]
     },
     "execution_count": 941,
     "metadata": {},
     "output_type": "execute_result"
    }
   ],
   "source": [
    "h=[]\n",
    "h.append(lambda x1,x2,x3,x4: x1*x1**2 + x2*x3**2 + x3*x1*x2 + x2*x4+12)\n",
    "h.append(lambda x1,x2,x3,x4: x2*2 + x3/x1 + x4*(x1*x2 + x2*x4)-10)\n",
    "h.append(lambda x1,x2,x3,x4: x1*x1+x3 + x3*x4 + x3*x2 + x4**3)\n",
    "h.append(lambda x1,x2,x3,x4: x2*x3+x1 + x3*x4 + x4*x2*x3 + x4**2-5)\n",
    "h=np.asarray(h)\n",
    "a,b,c=jacobian(h,[1,1,1,1],0)\n",
    "a"
   ]
  },
  {
   "cell_type": "raw",
   "metadata": {},
   "source": [
    "It can be seen that both jacobian matrices are similar"
   ]
  },
  {
   "cell_type": "markdown",
   "metadata": {},
   "source": [
    "# 6.7"
   ]
  },
  {
   "cell_type": "code",
   "execution_count": 942,
   "metadata": {},
   "outputs": [],
   "source": [
    "X=np.asarray([[1, i] for i in range(8)], dtype='float')"
   ]
  },
  {
   "cell_type": "code",
   "execution_count": 943,
   "metadata": {},
   "outputs": [
    {
     "name": "stdout",
     "output_type": "stream",
     "text": [
      "a0=100.00000000000001\n",
      "a1=1.9999999999999962\n"
     ]
    }
   ],
   "source": [
    "from scipy.linalg import solve\n",
    "A=X.T.dot(X)\n",
    "y=np.array([100+i*2 for i in range(8)], dtype='float')\n",
    "b=X.T.dot(y)\n",
    "Ans=solve(A,b)\n",
    "[a0,a1]=[Ans[0], Ans[1]]\n",
    "print('a0='+str(a0))\n",
    "print('a1='+str(a1))"
   ]
  },
  {
   "cell_type": "code",
   "execution_count": 944,
   "metadata": {},
   "outputs": [],
   "source": [
    "X2=np.asarray([i**2 for i in range(8)], dtype='float')\n",
    "X2=X2[:,np.newaxis]\n",
    "\n"
   ]
  },
  {
   "cell_type": "code",
   "execution_count": 945,
   "metadata": {},
   "outputs": [
    {
     "name": "stdout",
     "output_type": "stream",
     "text": [
      "a0=[100.]\n",
      "a1=[2.]\n",
      "a2=[-8.83737528e-15]\n"
     ]
    }
   ],
   "source": [
    "X=np.asarray([[1, i] for i in range(8)], dtype='float')\n",
    "y=y[:,np.newaxis]\n",
    "X=np.hstack((X,X2))\n",
    "A=X.T.dot(X)\n",
    "b=X.T.dot(y)\n",
    "Ans=solve(A,b)\n",
    "[a0,a1,a2]=[Ans[0], Ans[1],Ans[2]]\n",
    "print('a0='+str(a0))\n",
    "print('a1='+str(a1))\n",
    "print('a2='+str(a2))"
   ]
  },
  {
   "cell_type": "code",
   "execution_count": 946,
   "metadata": {},
   "outputs": [
    {
     "name": "stdout",
     "output_type": "stream",
     "text": [
      "a0=19.99999999999988\n",
      "a1=-5.999999999999904\n",
      "a2=11.999999999999988\n"
     ]
    }
   ],
   "source": [
    "#New sets of data to see if I could match the second degree polynomila or no!.\n",
    "#I checked the data and ther were correct :) \n",
    "X=np.asarray([[1, i] for i in range(8)], dtype='float')\n",
    "X2=np.asarray([i**2 for i in range(8)], dtype='float')\n",
    "X2=X2[:,np.newaxis]\n",
    "X=np.hstack((X,X2))\n",
    "A=X.T.dot(X)\n",
    "y=np.array([12*i**2-6*i+20 for i in range(8)], dtype='float')\n",
    "b=X.T.dot(y)\n",
    "Ans=solve(A,b)\n",
    "[a0,a1,a2]=[Ans[0], Ans[1],Ans[2]]\n",
    "print('a0='+str(a0))\n",
    "print('a1='+str(a1))\n",
    "print('a2='+str(a2))"
   ]
  }
 ],
 "metadata": {
  "kernelspec": {
   "display_name": "Python 3",
   "language": "python",
   "name": "python3"
  },
  "language_info": {
   "codemirror_mode": {
    "name": "ipython",
    "version": 3
   },
   "file_extension": ".py",
   "mimetype": "text/x-python",
   "name": "python",
   "nbconvert_exporter": "python",
   "pygments_lexer": "ipython3",
   "version": "3.6.5"
  }
 },
 "nbformat": 4,
 "nbformat_minor": 2
}
